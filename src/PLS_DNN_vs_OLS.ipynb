{
 "cells": [
  {
   "cell_type": "markdown",
   "metadata": {},
   "source": [
    "# Deep Fundamental Factor Models\n",
    "\n",
    "#### Author: Matthew Dixon\n",
    "#### Email: matthew.dixon@iit.edu\n",
    "#### License: MIT license\n",
    "#### Date: 10.13.2019\n",
    "#### Citation: If you use this code for your research, please cite the following paper"
   ]
  },
  {
   "cell_type": "raw",
   "metadata": {},
   "source": [
    "@misc{dixon2019deep, title={Deep Fundamental Factor Models},\n",
    "    author={Matthew F. Dixon and Nicholas G. Polson},\n",
    "    year={2019},\n",
    "    eprint={1903.07677},\n",
    "    archivePrefix={arXiv},\n",
    "    primaryClass={stat.ML}\n",
    "}"
   ]
  },
  {
   "cell_type": "markdown",
   "metadata": {},
   "source": [
    "##### Description"
   ]
  },
  {
   "cell_type": "raw",
   "metadata": {},
   "source": [
    "This notebook demonstrates the application of deep learning to fundamental factor modeling and compares the performance with OLS factor models. The outputs are monthly excess returns, the inputs are fundamental factors combined with dummy variables for industry group and sub-industry group-sectors. The Russell 1000 index data provided has already been re-scaled and the features have been anonymized, for data licensing reasons. \n",
    "\n",
    "The notebook describes the data loading, training using walk-forward optimization, performance evaluation and comparison with OLS regression, and finally strategy performance based on information ratios. The data can be downloaded from:\n",
    "https://www.dropbox.com/s/pqqz49xlqgit4h9/X_new.csv?dl=0 (factor exposures)\n",
    "https://www.dropbox.com/s/0z51jj6xfy1ndsn/Y_new.csv?dl=0 (stock excess returns)"
   ]
  },
  {
   "cell_type": "code",
   "execution_count": 67,
   "metadata": {},
   "outputs": [],
   "source": [
    "import csv\n",
    "import pickle\n",
    "import pandas as pd\n",
    "import numpy as np\n",
    "import re\n",
    "import math\n",
    "import random\n",
    "from keras.models import Sequential\n",
    "from keras.layers import Dense, Dropout\n",
    "from keras.utils import to_categorical\n",
    "from keras.regularizers import l1,l2\n",
    "from keras.wrappers.scikit_learn import KerasRegressor, KerasClassifier\n",
    "from sklearn.model_selection import KFold, StratifiedKFold, GridSearchCV, cross_val_score\n",
    "from sklearn.preprocessing import LabelEncoder\n",
    "import matplotlib.pyplot as plt\n",
    "from sklearn.metrics import mean_squared_error\n",
    "from keras.callbacks import EarlyStopping\n",
    "import os\n",
    "#from utilities import *\n",
    "#from view import *\n",
    "import statsmodels.api as sm\n",
    "#import datetime as dt\n",
    "#from dateutil.relativedelta import *\n",
    "\n",
    "# comment these if running python instead of ipython\n",
    "#%load_ext autoreload\n",
    "%matplotlib inline \n",
    "#%autoreload 1"
   ]
  },
  {
   "cell_type": "code",
   "execution_count": 4,
   "metadata": {},
   "outputs": [],
   "source": [
    "# define neural network model in Keras\n",
    "def NN(n_inputs, n_units = 30, dropout =0.1, l1_reg =0.001, activation='relu', L=2):\n",
    "    # L>0 is the number of hidden layers\n",
    "    \n",
    "    model = Sequential()\n",
    "    model.add(Dense(units=n_units, input_dim=n_inputs, kernel_regularizer=l1(l1_reg), kernel_initializer='normal', activation=activation))\n",
    "    model.add(Dropout(dropout))\n",
    "    for i in range (0,L-1):\n",
    "        model.add(Dense(units=n_units, kernel_regularizer=l1(l1_reg), kernel_initializer='normal', activation=activation))\n",
    "        model.add(Dropout(dropout))\n",
    "    model.add(Dense(1, kernel_initializer='normal')) \n",
    "    model.compile(loss='mean_squared_error', optimizer='adam',metrics=['mae'])\n",
    "    return(model)"
   ]
  },
  {
   "cell_type": "code",
   "execution_count": 5,
   "metadata": {},
   "outputs": [],
   "source": [
    "es = EarlyStopping(monitor='loss', mode='min', verbose=1, patience=3)"
   ]
  },
  {
   "cell_type": "code",
   "execution_count": 6,
   "metadata": {},
   "outputs": [],
   "source": [
    "\"\"\"\n",
    " NN parameter tuning:\n",
    "\"\"\"\n",
    "def parameter_tuning(X, y, cv=3, seed = 7):\n",
    "\n",
    "\n",
    "   param_grid = dict(n_inputs=[X.shape[1]],n_units=[50,100,200], l1_reg = [0, 0.0001, 0.001,0.01], activation=['relu','tanh']) # dropout=[0, 0.1, 0.2, 0.3],  #n_hidden_neurons=[10,50,100], \n",
    "   estimator = KerasRegressor(build_fn=NN, epochs=100, batch_size=50, verbose=0)   \n",
    "   grid = GridSearchCV(estimator=estimator, param_grid=param_grid, cv=cv,fit_params=dict(callbacks=[es]))\n",
    "   grid_result = grid.fit(X, y)\n",
    " \n",
    "   print(\"Best: %f using %s\" % (grid_result.best_score_, grid_result.best_params_))\n",
    "   means = grid_result.cv_results_['mean_test_score']\n",
    "   stds = grid_result.cv_results_['std_test_score']\n",
    "   params = grid_result.cv_results_['params']\n",
    "   for mean, stdev, param in zip(means, stds, params):\n",
    "         print(\"%f (%f) with: %r\" % (mean, stdev, param))"
   ]
  },
  {
   "cell_type": "code",
   "execution_count": 69,
   "metadata": {},
   "outputs": [],
   "source": [
    "def training_PLS(XTRAIN, YTRAIN, XTEST, YTEST, L):\n",
    " \n",
    "    n_epoches = 100  # maximum number of epoches (to be used with early stopping)\n",
    "    n_batch = 50     # mini-batch size\n",
    "    drop_out = 0.0   # level of dropout (set between 0 and 1)\n",
    "    n_units = 100\n",
    "    l1_reg = 0.00  # L_1 regularization parameter\n",
    "    tune = False     # set to true to perform cross-validation for parameter tuning\n",
    "    activation='relu'\n",
    "    models = {}\n",
    "    xs = {}\n",
    "    ys = {}\n",
    "    \n",
    "    models = {}\n",
    "    models['linear']=[]\n",
    "    models['NN']=[]\n",
    "    xs = {}\n",
    "    ys = {}\n",
    "\n",
    "    xs['train']=[]\n",
    "    xs['test']=[]\n",
    "    ys['train']=[]\n",
    "    ys['test']=[]\n",
    "    \n",
    "    betas = {}\n",
    "    betas['NN'] =[]\n",
    "    betas['linear'] =[]\n",
    "\n",
    "    #start_time = timeit.default_timer()\n",
    "    \n",
    "    for i in range(len(XTRAIN)):\n",
    "        x_train_file = \"data/PLS_data/x_train/%s\" % (XTRAIN[i])\n",
    "        y_train_file = \"data/PLS_data/y_train/%s\" % (YTRAIN[i])\n",
    "        x_test_file = \"data/PLS_data/x_test/%s\" % (XTEST[i])\n",
    "        y_test_file = \"data/PLS_data/y_test/%s\" % (YTEST[i])\n",
    "        \n",
    "        x_train = pd.read_csv(x_train_file)\n",
    "        y_train = pd.read_csv(y_train_file)\n",
    "        x_test = pd.read_csv(x_test_file)\n",
    "        y_test = pd.read_csv(y_test_file)\n",
    "        \n",
    "        x_train.drop(columns='Unnamed: 0', inplace=True)\n",
    "        y_train.drop(columns='Unnamed: 0', inplace=True)\n",
    "        x_test.drop(columns='Unnamed: 0', inplace=True)\n",
    "        y_test.drop(columns='Unnamed: 0', inplace=True)\n",
    "        \n",
    "        n_inputs = x_train.shape[1]\n",
    "        if n_inputs ==0:\n",
    "            next\n",
    "\n",
    "        if tune:\n",
    "            print(\"cross-validation...\")\n",
    "            parameter_tuning(x_train, y_train, 3)\n",
    "            tune=False\n",
    "\n",
    "        model = NN(n_units=n_units, n_inputs=n_inputs, dropout=drop_out, l1_reg=l1_reg, activation=activation, L=L)\n",
    "        model.fit(x_train.values, y_train.values, epochs=n_epoches, batch_size=n_batch, verbose=0, callbacks=[es])   \n",
    "        beta=sensitivities(model, x_train.values, L, activation)   \n",
    "        models['NN'].append(model)\n",
    "        betas['NN'].append(beta)\n",
    "\n",
    "        x=sm.add_constant(x_train)\n",
    "\n",
    "        model =sm.OLS(y_train, x).fit()   \n",
    "        betas['linear'].append(model.params)\n",
    "        models['linear'].append(model)\n",
    "        xs['train'].append(x_train)\n",
    "        xs['test'].append(x_test)\n",
    "        ys['train'].append(y_train)\n",
    "        ys['test'].append(y_test)\n",
    "\n",
    "        #elapsed = timeit.default_timer() - start_time\n",
    "        #print(\"Elapsed time:\" + str(elapsed) + \" (s)\")\n",
    "    \n",
    "\n",
    "    return models, betas, xs, ys"
   ]
  },
  {
   "cell_type": "code",
   "execution_count": 8,
   "metadata": {},
   "outputs": [],
   "source": [
    "# Compute the sensitivites of the network for either tanh or ReLU\n",
    "def sensitivities(lm, X, L, activation='tanh'):\n",
    "    \n",
    "    W=lm.get_weights()\n",
    "    M = np.shape(X)[0]\n",
    "    p = np.shape(X)[1]\n",
    "    beta=np.array([0]*M*(p+1), dtype='float32').reshape(M,p+1)\n",
    "    B_0 =W[1]\n",
    "    for i in range (0,L):\n",
    "      if activation=='tanh':  \n",
    "        B_0 = (np.dot(np.transpose(W[2*(i+1)]),np.tanh(B_0))+W[2*(i+1)+1])\n",
    "      elif activation=='relu':\n",
    "        B_0 = (np.dot(np.transpose(W[2*(i+1)]),np.maximum(B_0,0))+W[2*(i+1)+1])\n",
    "    \n",
    "          \n",
    "    beta[:,0]= B_0 # intercept \\beta_0= F_{W,b}(0)\n",
    "    for i in range(M):\n",
    "      I1 = np.dot(np.transpose(W[0]),np.transpose(X[i,])) + W[1]\n",
    "      if activation=='tanh':\n",
    "          Z= np.tanh(I1)  \n",
    "          D = np.diag(1-Z**2)\n",
    "      elif activation=='relu':\n",
    "          Z=np.maximum(I1,0)\n",
    "          D = np.diag(np.sign(Z)) \n",
    "               \n",
    "      for j in range(p):\n",
    "        J = np.dot(D,W[0][j])       \n",
    "        for a in range (1,L):\n",
    "          I= np.dot(np.transpose(W[2*a]),Z) + W[2*a+1] \n",
    "          if activation=='tanh':  \n",
    "              Z = np.tanh(I)\n",
    "              D = np.diag(1-Z**2)\n",
    "          elif activation=='relu':    \n",
    "              Z=np.maximum(I,0)\n",
    "              D = np.diag(np.sign(Z)) \n",
    "          J = np.dot(np.dot(D,np.transpose(W[a*2])),J)\n",
    "        beta[i,j+1]=np.dot(np.transpose(W[2*L]),J)\n",
    "            \n",
    "    return(beta)"
   ]
  },
  {
   "cell_type": "code",
   "execution_count": 85,
   "metadata": {},
   "outputs": [],
   "source": [
    "# Load the data\n",
    "X=pd.read_csv('../data/X.csv')\n",
    "Y=pd.read_csv('../data/Y.csv')"
   ]
  },
  {
   "cell_type": "code",
   "execution_count": 35,
   "metadata": {},
   "outputs": [],
   "source": [
    "XTRAIN = os.listdir('../data/PLS_data/x_train')\n",
    "YTRAIN = os.listdir('../data/PLS_data/y_train')\n",
    "XTEST = os.listdir('../data/PLS_data/x_test')\n",
    "YTEST = os.listdir('../data/PLS_data/y_test')"
   ]
  },
  {
   "cell_type": "markdown",
   "metadata": {},
   "source": [
    "## Training of models "
   ]
  },
  {
   "cell_type": "code",
   "execution_count": 42,
   "metadata": {},
   "outputs": [
    {
     "name": "stdout",
     "output_type": "stream",
     "text": [
      "Epoch 00037: early stopping\n",
      "Epoch 00053: early stopping\n",
      "Epoch 00046: early stopping\n",
      "Epoch 00017: early stopping\n",
      "Epoch 00027: early stopping\n",
      "Epoch 00032: early stopping\n",
      "Epoch 00048: early stopping\n",
      "Epoch 00025: early stopping\n",
      "Epoch 00042: early stopping\n",
      "Epoch 00036: early stopping\n",
      "Epoch 00040: early stopping\n",
      "Epoch 00038: early stopping\n",
      "Epoch 00044: early stopping\n",
      "Epoch 00030: early stopping\n",
      "Epoch 00042: early stopping\n",
      "Epoch 00048: early stopping\n",
      "Epoch 00019: early stopping\n",
      "Epoch 00031: early stopping\n",
      "Epoch 00031: early stopping\n",
      "Epoch 00035: early stopping\n"
     ]
    }
   ],
   "source": [
    "training_periods = 20\n",
    "L = 2\n",
    "models, betas, xs, ys = training_PLS(XTRAIN, YTRAIN, XTEST, YTEST, L)"
   ]
  },
  {
   "cell_type": "code",
   "execution_count": 111,
   "metadata": {},
   "outputs": [
    {
     "data": {
      "text/plain": [
       "['1989-12-01',\n",
       " '1990-01-01',\n",
       " '1990-02-01',\n",
       " '1990-03-01',\n",
       " '1990-04-01',\n",
       " '1990-05-01',\n",
       " '1990-06-01',\n",
       " '1990-07-01',\n",
       " '1990-08-01',\n",
       " '1990-09-01',\n",
       " '1990-10-01',\n",
       " '1990-11-01',\n",
       " '1990-12-01',\n",
       " '1991-01-01',\n",
       " '1991-02-01',\n",
       " '1991-03-01',\n",
       " '1991-04-01',\n",
       " '1991-05-01',\n",
       " '1991-06-01',\n",
       " '1991-07-01']"
      ]
     },
     "execution_count": 111,
     "metadata": {},
     "output_type": "execute_result"
    }
   ],
   "source": [
    "training_periods = 20 # number of model training and evaluation periods\n",
    "Y.dropna(inplace=True)\n",
    "dates = Y.drop_duplicates('date')\n",
    "dates = list(dates['date'][0:training_periods]) "
   ]
  },
  {
   "cell_type": "code",
   "execution_count": 123,
   "metadata": {},
   "outputs": [
    {
     "data": {
      "text/plain": [
       "20"
      ]
     },
     "execution_count": 123,
     "metadata": {},
     "output_type": "execute_result"
    }
   ],
   "source": [
    "len(dates)"
   ]
  },
  {
   "cell_type": "code",
   "execution_count": null,
   "metadata": {},
   "outputs": [],
   "source": [
    "#pickle.dump(betas, open('betas', 'wb'))\n",
    "#pickle.dump(models, open('models', 'wb'))\n",
    "#pickle.dump(xs, open('xs', 'wb'))\n",
    "#pickle.dump(ys, open('ys', 'wb'))"
   ]
  },
  {
   "cell_type": "markdown",
   "metadata": {},
   "source": [
    "# Performance evaluation"
   ]
  },
  {
   "cell_type": "code",
   "execution_count": 48,
   "metadata": {},
   "outputs": [
    {
     "name": "stdout",
     "output_type": "stream",
     "text": [
      "19\n"
     ]
    }
   ],
   "source": [
    "testing_periods=training_periods-1\n",
    "print(testing_periods)"
   ]
  },
  {
   "cell_type": "code",
   "execution_count": null,
   "metadata": {},
   "outputs": [],
   "source": [
    "#MSEs linear"
   ]
  },
  {
   "cell_type": "code",
   "execution_count": 49,
   "metadata": {
    "scrolled": true
   },
   "outputs": [
    {
     "name": "stdout",
     "output_type": "stream",
     "text": [
      "MSE:0.021783873516808563\n"
     ]
    }
   ],
   "source": [
    "MSE = 0\n",
    "y_hat_linear = []\n",
    "MSE_array_linear=np.array([0]*training_periods,dtype='float64')\n",
    "for i in range(testing_periods):\n",
    "    x= sm.add_constant(xs['test'][i].values)\n",
    "    y_hat_linear.append(models['linear'][i].predict(x))\n",
    "    MSE_test_linear= mean_squared_error(y_hat_linear[-1], ys['test'][i].values)\n",
    "    #print(i,MSE_test_linear)\n",
    "    MSE_array_linear[i]=MSE_test_linear\n",
    "    MSE+=MSE_test_linear\n",
    "print(\"MSE:\" + str(MSE/testing_periods))   \n",
    "MSE_linear=MSE/testing_periods"
   ]
  },
  {
   "cell_type": "code",
   "execution_count": null,
   "metadata": {},
   "outputs": [],
   "source": [
    "# L_inf linear"
   ]
  },
  {
   "cell_type": "code",
   "execution_count": 50,
   "metadata": {
    "scrolled": true
   },
   "outputs": [
    {
     "name": "stdout",
     "output_type": "stream",
     "text": [
      "L_inf:1.5090930308943602\n"
     ]
    }
   ],
   "source": [
    "L_inf = 0\n",
    "y_hat_linear = []\n",
    "L_inf_array_linear=np.array([0]*training_periods,dtype='float64')\n",
    "for i in range(testing_periods):\n",
    "    x= sm.add_constant(xs['test'][i].values)\n",
    "    y_hat_linear.append(models['linear'][i].predict(x))\n",
    "    L_inf_test_linear= np.max(np.abs(np.array(y_hat_linear[-1]- ys['test'][i].values)))\n",
    "    #print(i,MSE_test_linear)\n",
    "    L_inf_array_linear[i]=L_inf_test_linear\n",
    "    L_inf+=L_inf_test_linear\n",
    "print(\"L_inf:\" + str(L_inf/testing_periods))\n",
    "L_inf_linear=L_inf/testing_periods"
   ]
  },
  {
   "cell_type": "code",
   "execution_count": null,
   "metadata": {},
   "outputs": [],
   "source": [
    "# MSEs linear (training)"
   ]
  },
  {
   "cell_type": "code",
   "execution_count": 51,
   "metadata": {},
   "outputs": [
    {
     "name": "stdout",
     "output_type": "stream",
     "text": [
      "MSE:0.02001721841617992\n"
     ]
    }
   ],
   "source": [
    "MSE = 0\n",
    "MSE_array_linear_in=np.array([0]*training_periods,dtype='float64')\n",
    "y_hat_linear_is =[]\n",
    "for i in range(training_periods):\n",
    "    x= sm.add_constant(xs['train'][i].values)\n",
    "    y_hat_linear_is.append(models['linear'][i].predict(x))\n",
    "    MSE_test_linear= mean_squared_error(y_hat_linear_is[-1], ys['train'][i].values)\n",
    "    #print(i,MSE_test_linear)\n",
    "    MSE_array_linear_in[i]=MSE_test_linear\n",
    "    MSE+=MSE_test_linear\n",
    "print(\"MSE:\" + str(MSE/training_periods))\n",
    "MSE_linear_in=MSE/training_periods"
   ]
  },
  {
   "cell_type": "code",
   "execution_count": null,
   "metadata": {},
   "outputs": [],
   "source": [
    "# L_inf linear (training)"
   ]
  },
  {
   "cell_type": "code",
   "execution_count": 52,
   "metadata": {
    "scrolled": true
   },
   "outputs": [
    {
     "name": "stdout",
     "output_type": "stream",
     "text": [
      "L_inf:1.3617227117138408\n"
     ]
    }
   ],
   "source": [
    "L_inf = 0\n",
    "y_hat_linear_is = []\n",
    "L_inf_array_linear_in=np.array([0]*training_periods,dtype='float64')\n",
    "for i in range(training_periods):\n",
    "    x= sm.add_constant(xs['train'][i].values)\n",
    "    y_hat_linear_is.append(models['linear'][i].predict(x))\n",
    "    L_inf_test_linear= np.max(np.abs(np.array(y_hat_linear_is[-1]- ys['train'][i].values)))\n",
    "    #print(i,MSE_test_linear)\n",
    "    L_inf_array_linear_in[i]=L_inf_test_linear\n",
    "    L_inf+=L_inf_test_linear\n",
    "print(\"L_inf:\" + str(L_inf/training_periods))    \n",
    "L_inf_linear_in=L_inf/training_periods"
   ]
  },
  {
   "cell_type": "code",
   "execution_count": null,
   "metadata": {},
   "outputs": [],
   "source": [
    "# MSEs NNs (testing)"
   ]
  },
  {
   "cell_type": "code",
   "execution_count": 53,
   "metadata": {},
   "outputs": [
    {
     "name": "stdout",
     "output_type": "stream",
     "text": [
      "0 0.02440703715226731\n",
      "1 0.02584857493491661\n",
      "2 0.03248566165911832\n",
      "3 0.025845159093466866\n",
      "4 0.029082127464495396\n",
      "5 0.030344909622658955\n",
      "6 0.034309921834692496\n",
      "7 0.03579053075404267\n",
      "8 0.06080132540033317\n",
      "9 0.061092618248823546\n",
      "10 0.046698119781763796\n",
      "11 0.03764455175491034\n",
      "12 0.0519195350184541\n",
      "13 0.032286067493418946\n",
      "14 0.033879946173628786\n",
      "15 0.03899922849223645\n",
      "16 0.030075096103292027\n",
      "17 0.030263806105179727\n",
      "18 0.035199920583245496\n",
      "MSE:0.03668284935110237\n"
     ]
    }
   ],
   "source": [
    "MSE =0\n",
    "MSE_array_NN=np.array([0]*training_periods, dtype='float64')\n",
    "y_hat_NN=[]\n",
    "for i in range(testing_periods):\n",
    "    y_hat_NN.append(models['NN'][i].predict(xs['test'][i].values))\n",
    "    MSE_test_NN= mean_squared_error(y_hat_NN[-1], ys['test'][i].values)\n",
    "    print(i,MSE_test_NN)\n",
    "    MSE_array_NN[i]=MSE_test_NN\n",
    "    MSE+=MSE_test_NN\n",
    "print(\"MSE:\" + str(MSE/testing_periods))\n",
    "MSE_NN=MSE/testing_periods"
   ]
  },
  {
   "cell_type": "code",
   "execution_count": null,
   "metadata": {},
   "outputs": [],
   "source": [
    "# L_inf NNs (testing)"
   ]
  },
  {
   "cell_type": "code",
   "execution_count": 54,
   "metadata": {},
   "outputs": [
    {
     "name": "stdout",
     "output_type": "stream",
     "text": [
      "0 1.2495116098187944\n",
      "1 0.9598524438592071\n",
      "2 1.477159348500549\n",
      "3 1.4024476699843291\n",
      "4 1.6000372004085084\n",
      "5 0.7669647235585002\n",
      "6 0.7516507296471557\n",
      "7 0.8822321178943252\n",
      "8 1.099130020079773\n",
      "9 1.2876997152577667\n",
      "10 1.4254439748045198\n",
      "11 1.163986122355835\n",
      "12 1.0425294995375975\n",
      "13 0.8142242046494751\n",
      "14 2.71876784782666\n",
      "15 2.73676092949292\n",
      "16 0.9837011845445405\n",
      "17 0.8537738594346467\n",
      "18 0.8603515066193542\n",
      "L_inf:1.2671697214881292\n"
     ]
    }
   ],
   "source": [
    "L_inf =0\n",
    "L_inf_array_NN=np.array([0]*training_periods, dtype='float64')\n",
    "y_hat_NN=[]\n",
    "for i in range(testing_periods):\n",
    "    y_hat_NN.append(models['NN'][i].predict(xs['test'][i].values))\n",
    "    L_inf_test_NN= np.max(np.abs(np.array(y_hat_NN[-1]- ys['test'][i].values)))\n",
    "    print(i,L_inf_test_NN)\n",
    "    L_inf_array_NN[i]=L_inf_test_NN\n",
    "    L_inf+=L_inf_test_NN\n",
    "print(\"L_inf:\" + str(L_inf/testing_periods))  \n",
    "L_inf_NN=L_inf/testing_periods"
   ]
  },
  {
   "cell_type": "code",
   "execution_count": null,
   "metadata": {},
   "outputs": [],
   "source": [
    "# MSEs NN (training)"
   ]
  },
  {
   "cell_type": "code",
   "execution_count": 55,
   "metadata": {},
   "outputs": [
    {
     "name": "stdout",
     "output_type": "stream",
     "text": [
      "MSE:0.0034975179681721313\n"
     ]
    }
   ],
   "source": [
    "MSE =0\n",
    "MSE_array_NN_in=np.array([0]*training_periods, dtype='float64')\n",
    "y_hat_NN_is =[]\n",
    "for i in range(training_periods):\n",
    "    y_hat_NN_is.append(models['NN'][i].predict(xs['train'][i].values))\n",
    "    MSE_test_NN= mean_squared_error(y_hat_NN_is[-1], ys['train'][i].values)\n",
    "    #MSE_test_NN= np.max(np.abs(np.array(y_hat_NN_is[-1]- ys['train'][i].values)))\n",
    "    #print(i,MSE_test_NN)\n",
    "    MSE_array_NN_in[i]=MSE_test_NN\n",
    "    MSE+=MSE_test_NN\n",
    "print(\"MSE:\" + str(MSE/training_periods)) \n",
    "MSE_NN_in=MSE/training_periods"
   ]
  },
  {
   "cell_type": "code",
   "execution_count": null,
   "metadata": {},
   "outputs": [],
   "source": [
    "# L_inf NNS (training)"
   ]
  },
  {
   "cell_type": "code",
   "execution_count": 56,
   "metadata": {},
   "outputs": [
    {
     "name": "stdout",
     "output_type": "stream",
     "text": [
      "L_inf:0.42256606347454984\n"
     ]
    }
   ],
   "source": [
    "L_inf =0\n",
    "L_inf_array_NN_in=np.array([0]*training_periods, dtype='float64')\n",
    "y_hat_NN_is =[]\n",
    "for i in range(training_periods):\n",
    "    y_hat_NN_is.append(models['NN'][i].predict(xs['train'][i].values))\n",
    "    #L_inf_test_NN= mean_squared_error(y_hat_NN_is[-1], ys['train'][i].values)\n",
    "    L_inf_test_NN= np.max(np.abs(np.array(y_hat_NN_is[-1]- ys['train'][i].values)))\n",
    "    #print(i,MSE_test_NN)\n",
    "    L_inf_array_NN_in[i]=L_inf_test_NN\n",
    "    L_inf+=L_inf_test_NN\n",
    "print(\"L_inf:\" + str(L_inf/training_periods)) \n",
    "L_inf_NN_in=L_inf/training_periods"
   ]
  },
  {
   "cell_type": "markdown",
   "metadata": {},
   "source": [
    "# Plot the error norms over time"
   ]
  },
  {
   "cell_type": "code",
   "execution_count": 127,
   "metadata": {},
   "outputs": [
    {
     "name": "stderr",
     "output_type": "stream",
     "text": [
      "WARNING:matplotlib.backends.backend_ps:The PostScript backend does not support transparency; partially transparent artists will be rendered opaque.\n",
      "WARNING:matplotlib.backends.backend_ps:The PostScript backend does not support transparency; partially transparent artists will be rendered opaque.\n",
      "WARNING:matplotlib.backends.backend_ps:The PostScript backend does not support transparency; partially transparent artists will be rendered opaque.\n",
      "WARNING:matplotlib.backends.backend_ps:The PostScript backend does not support transparency; partially transparent artists will be rendered opaque.\n"
     ]
    },
    {
     "data": {
      "image/png": "[encoded data removed]",
      "text/plain": [
       "<Figure size 640x480 with 1 Axes>"
      ]
     },
     "metadata": {},
     "output_type": "display_data"
    }
   ],
   "source": [
    "plt.figure(num=None, figsize=(8, 6), dpi=80, facecolor='w', edgecolor='k')\n",
    "NN_label='NN (' + str(round(MSE_NN_in,3)) +')'\n",
    "plt.plot(MSE_array_NN_in, color='red', label=NN_label)\n",
    "plt.yscale('log')\n",
    "OLS_label='OLS (' + str(round(MSE_linear_in,3)) +')'\n",
    "plt.plot(MSE_array_linear_in, color='blue', label=OLS_label)\n",
    "plt.ylabel('MSE (in-sample)')\n",
    "plt.xlabel('dates')\n",
    "plt.xticks(np.arange(0,len(dates)-1,1), dates, rotation=70)\n",
    "plt.legend()\n",
    "plt.savefig('MSE_in_error.eps', format='eps',dpi=1200,bbox_inches = \"tight\")"
   ]
  },
  {
   "cell_type": "code",
   "execution_count": 130,
   "metadata": {},
   "outputs": [
    {
     "name": "stderr",
     "output_type": "stream",
     "text": [
      "WARNING:matplotlib.backends.backend_ps:The PostScript backend does not support transparency; partially transparent artists will be rendered opaque.\n",
      "WARNING:matplotlib.backends.backend_ps:The PostScript backend does not support transparency; partially transparent artists will be rendered opaque.\n",
      "WARNING:matplotlib.backends.backend_ps:The PostScript backend does not support transparency; partially transparent artists will be rendered opaque.\n",
      "WARNING:matplotlib.backends.backend_ps:The PostScript backend does not support transparency; partially transparent artists will be rendered opaque.\n"
     ]
    },
    {
     "data": {
      "image/png": "[encoded data removed]",
      "text/plain": [
       "<Figure size 640x480 with 1 Axes>"
      ]
     },
     "metadata": {},
     "output_type": "display_data"
    }
   ],
   "source": [
    "plt.figure(num=None, figsize=(8, 6), dpi=80, facecolor='w', edgecolor='k')\n",
    "NN_label='NN (' + str(round(L_inf_NN_in,3)) +')'\n",
    "plt.plot(L_inf_array_NN_in, color='red', label=NN_label)\n",
    "plt.yscale('log')\n",
    "OLS_label='OLS (' + str(round(L_inf_linear_in,3)) +')'\n",
    "plt.plot(L_inf_array_linear_in, color='blue', label=OLS_label)\n",
    "plt.ylabel('$L_{\\infty}$ Error (in-sample)')\n",
    "plt.xlabel('dates')\n",
    "plt.xticks(np.arange(0,len(dates)-1,1), dates, rotation=70)\n",
    "plt.legend()\n",
    "plt.savefig('L_inf_in_error.eps', format='eps',dpi=1200,bbox_inches = \"tight\")"
   ]
  },
  {
   "cell_type": "code",
   "execution_count": 129,
   "metadata": {},
   "outputs": [
    {
     "name": "stderr",
     "output_type": "stream",
     "text": [
      "WARNING:matplotlib.backends.backend_ps:The PostScript backend does not support transparency; partially transparent artists will be rendered opaque.\n",
      "WARNING:matplotlib.backends.backend_ps:The PostScript backend does not support transparency; partially transparent artists will be rendered opaque.\n",
      "WARNING:matplotlib.backends.backend_ps:The PostScript backend does not support transparency; partially transparent artists will be rendered opaque.\n",
      "WARNING:matplotlib.backends.backend_ps:The PostScript backend does not support transparency; partially transparent artists will be rendered opaque.\n"
     ]
    },
    {
     "data": {
      "image/png": "[encoded data removed]",
      "text/plain": [
       "<Figure size 640x480 with 1 Axes>"
      ]
     },
     "metadata": {},
     "output_type": "display_data"
    }
   ],
   "source": [
    "plt.figure(num=None, figsize=(8, 6), dpi=80, facecolor='w', edgecolor='k')\n",
    "NN_label='NN (' + str(round(MSE_NN,3)) +')'\n",
    "plt.plot(MSE_array_NN[:-1], color='red', label=NN_label)\n",
    "plt.yscale('log')\n",
    "OLS_label='OLS (' + str(round(MSE_linear,3)) +')'\n",
    "plt.plot(MSE_array_linear[:-1], color='blue', label=OLS_label)\n",
    "plt.ylabel('MSE (out-of-sample)')\n",
    "plt.xlabel('dates')\n",
    "plt.xticks(np.arange(0,len(dates)-1,1), dates, rotation=70)\n",
    "plt.legend()\n",
    "plt.savefig('MSE_error.eps', format='eps',dpi=1200,bbox_inches = \"tight\")"
   ]
  },
  {
   "cell_type": "code",
   "execution_count": 128,
   "metadata": {},
   "outputs": [
    {
     "name": "stderr",
     "output_type": "stream",
     "text": [
      "WARNING:matplotlib.backends.backend_ps:The PostScript backend does not support transparency; partially transparent artists will be rendered opaque.\n",
      "WARNING:matplotlib.backends.backend_ps:The PostScript backend does not support transparency; partially transparent artists will be rendered opaque.\n",
      "WARNING:matplotlib.backends.backend_ps:The PostScript backend does not support transparency; partially transparent artists will be rendered opaque.\n",
      "WARNING:matplotlib.backends.backend_ps:The PostScript backend does not support transparency; partially transparent artists will be rendered opaque.\n"
     ]
    },
    {
     "data": {
      "image/png": "[encoded data removed]",
      "text/plain": [
       "<Figure size 640x480 with 1 Axes>"
      ]
     },
     "metadata": {},
     "output_type": "display_data"
    }
   ],
   "source": [
    "plt.figure(num=None, figsize=(8, 6), dpi=80, facecolor='w', edgecolor='k')\n",
    "NN_label='NN (' + str(round(L_inf_NN,3)) +')'\n",
    "plt.plot(L_inf_array_NN[:-1], color='red', label=NN_label)\n",
    "plt.yscale('log')\n",
    "OLS_label='OLS (' + str(round(L_inf_linear,3)) +')'\n",
    "plt.plot(L_inf_array_linear[:-1], color='blue', label=OLS_label)\n",
    "plt.ylabel('$L_{\\infty}$ Error (out-of-sample)')\n",
    "plt.xlabel('dates')\n",
    "plt.xticks(np.arange(0,len(dates)-1,1), dates, rotation=70)\n",
    "plt.legend()\n",
    "plt.savefig('L_inf_error.eps', format='eps',dpi=1200,bbox_inches = \"tight\")"
   ]
  },
  {
   "cell_type": "markdown",
   "metadata": {},
   "source": [
    "# Additional analysis of outliers"
   ]
  },
  {
   "cell_type": "code",
   "execution_count": null,
   "metadata": {},
   "outputs": [],
   "source": [
    "# analysis with removal of outlier"
   ]
  },
  {
   "cell_type": "code",
   "execution_count": 62,
   "metadata": {},
   "outputs": [],
   "source": [
    "outlier_index=np.argsort(MSE_array_linear)[328:330]"
   ]
  },
  {
   "cell_type": "code",
   "execution_count": null,
   "metadata": {},
   "outputs": [],
   "source": [
    "# MSE without outliers"
   ]
  },
  {
   "cell_type": "code",
   "execution_count": 63,
   "metadata": {},
   "outputs": [
    {
     "data": {
      "text/plain": [
       "0.024346682165844864"
      ]
     },
     "execution_count": 63,
     "metadata": {},
     "output_type": "execute_result"
    }
   ],
   "source": [
    "(np.sum(MSE_array_linear) - np.sum(MSE_array_linear[outlier_index]))/(testing_periods-2)"
   ]
  },
  {
   "cell_type": "code",
   "execution_count": null,
   "metadata": {},
   "outputs": [],
   "source": [
    "# L_inf without outliers"
   ]
  },
  {
   "cell_type": "code",
   "execution_count": 64,
   "metadata": {},
   "outputs": [
    {
     "data": {
      "text/plain": [
       "1.6866333874701676"
      ]
     },
     "execution_count": 64,
     "metadata": {},
     "output_type": "execute_result"
    }
   ],
   "source": [
    "(np.sum(L_inf_array_linear) - np.sum(L_inf_array_linear[outlier_index]))/(testing_periods-2)"
   ]
  },
  {
   "cell_type": "code",
   "execution_count": null,
   "metadata": {},
   "outputs": [],
   "source": [
    "dates[outlier_index]"
   ]
  },
  {
   "cell_type": "markdown",
   "metadata": {},
   "source": [
    "# Calculate information ratios"
   ]
  },
  {
   "cell_type": "code",
   "execution_count": 131,
   "metadata": {},
   "outputs": [
    {
     "name": "stderr",
     "output_type": "stream",
     "text": [
      "ERROR:root:Internal Python error in the inspect module.\n",
      "Below is the traceback from this internal error.\n",
      "\n"
     ]
    },
    {
     "name": "stdout",
     "output_type": "stream",
     "text": [
      "Traceback (most recent call last):\n",
      "  File \"C:\\Users\\kemen\\anaconda3\\envs\\MLFenv\\lib\\site-packages\\IPython\\core\\interactiveshell.py\", line 3331, in run_code\n",
      "    exec(code_obj, self.user_global_ns, self.user_ns)\n",
      "  File \"<ipython-input-131-331c64b886db>\", line 21, in <module>\n",
      "    idx_linear.append(np.argsort(-y_hat_linear[i].flatten())[:m])\n",
      "IndexError: list index out of range\n",
      "\n",
      "During handling of the above exception, another exception occurred:\n",
      "\n",
      "Traceback (most recent call last):\n",
      "  File \"C:\\Users\\kemen\\anaconda3\\envs\\MLFenv\\lib\\site-packages\\IPython\\core\\interactiveshell.py\", line 2044, in showtraceback\n",
      "    stb = value._render_traceback_()\n",
      "AttributeError: 'IndexError' object has no attribute '_render_traceback_'\n",
      "\n",
      "During handling of the above exception, another exception occurred:\n",
      "\n",
      "Traceback (most recent call last):\n",
      "  File \"C:\\Users\\kemen\\anaconda3\\envs\\MLFenv\\lib\\site-packages\\IPython\\core\\ultratb.py\", line 1148, in get_records\n",
      "    return _fixed_getinnerframes(etb, number_of_lines_of_context, tb_offset)\n",
      "  File \"C:\\Users\\kemen\\anaconda3\\envs\\MLFenv\\lib\\site-packages\\IPython\\core\\ultratb.py\", line 316, in wrapped\n",
      "    return f(*args, **kwargs)\n",
      "  File \"C:\\Users\\kemen\\anaconda3\\envs\\MLFenv\\lib\\site-packages\\IPython\\core\\ultratb.py\", line 350, in _fixed_getinnerframes\n",
      "    records = fix_frame_records_filenames(inspect.getinnerframes(etb, context))\n",
      "  File \"C:\\Users\\kemen\\anaconda3\\envs\\MLFenv\\lib\\inspect.py\", line 1502, in getinnerframes\n",
      "    frameinfo = (tb.tb_frame,) + getframeinfo(tb, context)\n",
      "  File \"C:\\Users\\kemen\\anaconda3\\envs\\MLFenv\\lib\\inspect.py\", line 1460, in getframeinfo\n",
      "    filename = getsourcefile(frame) or getfile(frame)\n",
      "  File \"C:\\Users\\kemen\\anaconda3\\envs\\MLFenv\\lib\\inspect.py\", line 696, in getsourcefile\n",
      "    if getattr(getmodule(object, filename), '__loader__', None) is not None:\n",
      "  File \"C:\\Users\\kemen\\anaconda3\\envs\\MLFenv\\lib\\inspect.py\", line 733, in getmodule\n",
      "    if ismodule(module) and hasattr(module, '__file__'):\n",
      "  File \"C:\\Users\\kemen\\anaconda3\\envs\\MLFenv\\lib\\site-packages\\tensorflow\\__init__.py\", line 50, in __getattr__\n",
      "    module = self._load()\n",
      "  File \"C:\\Users\\kemen\\anaconda3\\envs\\MLFenv\\lib\\site-packages\\tensorflow\\__init__.py\", line 44, in _load\n",
      "    module = _importlib.import_module(self.__name__)\n",
      "  File \"C:\\Users\\kemen\\anaconda3\\envs\\MLFenv\\lib\\importlib\\__init__.py\", line 127, in import_module\n",
      "    return _bootstrap._gcd_import(name[level:], package, level)\n",
      "  File \"<frozen importlib._bootstrap>\", line 1006, in _gcd_import\n",
      "  File \"<frozen importlib._bootstrap>\", line 983, in _find_and_load\n",
      "  File \"<frozen importlib._bootstrap>\", line 965, in _find_and_load_unlocked\n",
      "ModuleNotFoundError: No module named 'tensorflow_core.estimator'\n"
     ]
    },
    {
     "ename": "IndexError",
     "evalue": "list index out of range",
     "output_type": "error",
     "traceback": [
      "\u001b[1;31m---------------------------------------------------------------------------\u001b[0m"
     ]
    }
   ],
   "source": [
    "\"\"\"\n",
    " Information Ratio Calculation over most recent 10 year period\n",
    "\"\"\"    \n",
    "\n",
    "info_ratio = []\n",
    "info_ratio_linear = []\n",
    "info_ratio_NN = []\n",
    "info_ratio_wn = []\n",
    "\n",
    "m_range = [10,15,20,25,30,35,40,45,50]\n",
    "for m in m_range:\n",
    "    excess_returns_linear = []\n",
    "    excess_returns_NN = []\n",
    "    excess_returns_wn = []\n",
    "    excess_returns_std_linear = []\n",
    "    excess_returns_std_NN = []\n",
    "    excess_returns_std_wn = []\n",
    "    idx_linear = []\n",
    "    idx_NN = []\n",
    "    for i in range((testing_periods-120),testing_periods):\n",
    "        idx_linear.append(np.argsort(-y_hat_linear[i].flatten())[:m])\n",
    "        excess_returns_linear.append(np.mean(np.array(ys['test'][i])[idx_linear[-1]] ))\n",
    "        \n",
    "        idx_NN.append(np.argsort(-y_hat_NN[i].flatten())[:m])\n",
    "        excess_returns_NN.append(np.mean(np.array(ys['test'][i])[idx_NN[-1]] ))\n",
    "          \n",
    "        #White Noise IR\n",
    "        wn = np.asarray(random.sample(range(1, len(ys['test'][i])),m))\n",
    "        excess_returns_wn.append(np.mean(np.array(ys['test'][i])[wn]))\n",
    "        \n",
    "    excess_returns_std_linear.append(np.std(excess_returns_linear))\n",
    "    info_ratio_linear.append(np.mean(excess_returns_linear)/excess_returns_std_linear)\n",
    "    \n",
    "    excess_returns_std_NN.append(np.std(excess_returns_NN))\n",
    "    info_ratio_NN.append(np.mean(excess_returns_NN)/excess_returns_std_NN)\n",
    "      \n",
    "    excess_returns_std_wn.append(np.std(excess_returns_wn))\n",
    "    info_ratio_wn.append(np.mean(excess_returns_wn)/excess_returns_std_wn)"
   ]
  },
  {
   "cell_type": "code",
   "execution_count": null,
   "metadata": {},
   "outputs": [],
   "source": [
    "wn_label='Random (' + str(round(np.mean(info_ratio_wn),3)) + ')'\n",
    "plt.plot(m_range, info_ratio_wn, label=wn_label, color='black')\n",
    "OLS_label='OLS (' + str(round(np.mean(info_ratio_linear),3)) + ')'\n",
    "plt.plot(m_range, info_ratio_linear, label=OLS_label, color='blue')\n",
    "NN_label='NN (' + str(round(np.mean(info_ratio_NN),3)) + ')'\n",
    "plt.plot(m_range, info_ratio_NN, label=NN_label, color='red')\n",
    "#plt.plot(m_range, info_ratio_NN_relu, label='NN (ReLU 10)', color='red', linestyle='--')\n",
    "plt.xlabel('Number of Stocks')\n",
    "plt.ylabel('Information Ratio')\n",
    "plt.legend()\n",
    "plt.savefig('IR.eps', format='eps',dpi=1200,bbox_inches = \"tight\")"
   ]
  },
  {
   "cell_type": "markdown",
   "metadata": {},
   "source": [
    "# Sector analysis"
   ]
  },
  {
   "cell_type": "code",
   "execution_count": null,
   "metadata": {},
   "outputs": [],
   "source": [
    "\"\"\"\n",
    " Sector analysis over most recent 10 year period.\n",
    "\"\"\"    \n",
    "\n",
    "\n",
    "m_range = [50]\n",
    "\n",
    "df_WN = pd.DataFrame(columns=['S0', 'S1', 'S2', 'S3', 'S4', 'S5', 'S6', 'S7', 'S8', 'S9','S10'])\n",
    "df_linear = pd.DataFrame(columns=['S0', 'S1', 'S2', 'S3', 'S4', 'S5', 'S6', 'S7', 'S8', 'S9','S10'])\n",
    "df_NN = pd.DataFrame(columns=['S0', 'S1', 'S2', 'S3', 'S4', 'S5', 'S6', 'S7', 'S8', 'S9','S10'])\n",
    "\n",
    "\n",
    "for m in m_range:\n",
    "    idx_linear = []\n",
    "    idx_NN = []\n",
    "    idx_WN = []\n",
    "    for i in range((testing_periods-120),testing_periods):\n",
    "        idx_linear.append(np.argsort(-y_hat_linear[i].flatten())[:m])\n",
    "        \n",
    "        series=pd.Series(X[['S0', 'S1', 'S2', 'S3', 'S4', 'S5', 'S6', 'S7', 'S8', 'S9','S10']].iloc[idx_linear[-1]].mean())\n",
    "        df_linear=df_linear.append(series, ignore_index=True)\n",
    "        \n",
    "        \n",
    "        idx_NN.append(np.argsort(-y_hat_NN[i].flatten())[:m])\n",
    "        series=pd.Series(X[['S0', 'S1', 'S2', 'S3', 'S4', 'S5', 'S6', 'S7', 'S8', 'S9','S10']].iloc[idx_NN[-1]].mean())\n",
    "        df_NN=df_NN.append(series, ignore_index=True)\n",
    " \n",
    "        #White Noise IR\n",
    "        idx_WN.append(np.random.choice(np.arange(0,len(ys['test'][i])),m))\n",
    "        series=pd.Series(X[['S0', 'S1', 'S2', 'S3', 'S4', 'S5', 'S6', 'S7', 'S8', 'S9','S10']].iloc[idx_WN[-1]].mean())\n",
    "        df_WN=df_WN.append(series, ignore_index=True)\n",
    "\n",
    "        "
   ]
  },
  {
   "cell_type": "code",
   "execution_count": null,
   "metadata": {},
   "outputs": [],
   "source": [
    "GICS={'S0':'Energy','S1':'Materials','S2':'Industrials','S3':'Consumer Discretionary','S4':'Consumer Staples','S5':'Health Care','S6':'Financials','S7':'Information Technology','S8':'Communication Services','S9':'Utilities','S10':'Real Estate'}"
   ]
  },
  {
   "cell_type": "code",
   "execution_count": null,
   "metadata": {},
   "outputs": [],
   "source": [
    "def trim_axs(axs, N):\n",
    "    \"\"\"\n",
    "    Reduce *axs* to *N* Axes. All further Axes are removed from the figure.\n",
    "    \"\"\"\n",
    "    axs = axs.flat\n",
    "    for ax in axs[N:]:\n",
    "        ax.remove()\n",
    "    return axs[:N]"
   ]
  },
  {
   "cell_type": "code",
   "execution_count": null,
   "metadata": {},
   "outputs": [],
   "source": [
    "rows=2\n",
    "cols = 4\n",
    "figsize=(10.5, 6)\n",
    "\n",
    "sectors = ['S6','S3','S2','S9','S1','S4','S7','S5'] # ,'S0','S8']\n",
    "\n",
    "fig1, axs = plt.subplots(rows, cols, figsize=figsize, constrained_layout=True)\n",
    "axs = trim_axs(axs, len(sectors))\n",
    "for ax, sector in zip(axs, sectors):\n",
    "    ax.set_title('%s' % str(GICS[sector]))\n",
    "    #set(ax,'xtickl',get(ax,'xtick'))\n",
    "    wn_label='Random: ' + str(round(np.mean(df_WN[sector]),3)) + ' (' + str(round(np.std(df_WN[sector]),3))  + ')'\n",
    "    OLS_label='OLS: ' + str(round(np.mean(df_linear[sector]),3)) +  ' (' + str(round(np.std(df_linear[sector]),3)) + ')'\n",
    "    NN_label='NN: ' + str(round(np.mean(df_NN[sector]),3)) +  ' (' + str(round(np.std(df_NN[sector]),3)) +  ')'\n",
    "    \n",
    "    ax.plot(range(0,len(df_NN)), df_NN[sector], 'o', ls='--', ms=4, color='red', label=NN_label)\n",
    "    ax.plot(range(0,len(df_linear)), df_linear[sector], 'o', ls='--', ms=4, color='blue', label=OLS_label)\n",
    "    #ax.plot(range(0,len(df_WN)), df_WN[sector], 'o', ls='--', ms=4, color='black', label=wn_label)\n",
    "    \n",
    "    #ax.xlabel('dates')\n",
    "    #ax.set_xticklabels(np.arange(0,120,12), dates[np.arange(n-120,n,12)], rotation=70)\n",
    "    fontdict= {'fontsize': 10,\n",
    "    'fontweight': 1,\n",
    "     'verticalalignment': 'baseline'}\n",
    "    ax.set_ylim([np.min(df_NN[sector])-0.025,np.max(df_linear[sector])+0.15])\n",
    "    ax.set_xticks(np.arange(0,120,12), minor=False)\n",
    "    ax.set_xticklabels(dates[np.arange(n-120,n,12)], fontdict=fontdict) #, rotation=70)\n",
    "    ax.tick_params(axis='x', rotation=70)\n",
    "    ax.legend(loc='upper left')#, bbox_to_anchor=(1, 0.5))\n",
    "    ax.axvline(x=93, linestyle='--', color='black')\n",
    "fig1.tight_layout()\n",
    "#plt.show()\n",
    "plt.savefig('sector_tilts_hi.eps', format='eps',dpi=1200,bbox_inches = \"tight\")"
   ]
  },
  {
   "cell_type": "code",
   "execution_count": null,
   "metadata": {},
   "outputs": [],
   "source": [
    "# show factor tilts on 2015-10-01 - the date of the outlier"
   ]
  },
  {
   "cell_type": "code",
   "execution_count": null,
   "metadata": {},
   "outputs": [],
   "source": [
    "plt.plot(range(0,11),df_NN.iloc[93], color='red', label='NN')\n",
    "plt.plot(range(0,11),df_linear.iloc[93], color='blue', label='OLS')\n",
    "plt.xticks(range(0,11), [ GICS[sector] for sector in sectors ], rotation=70)\n",
    "plt.legend()\n",
    "plt.savefig('sector_tilts_2015-10-1.eps', format='eps',dpi=1200,bbox_inches = \"tight\")"
   ]
  },
  {
   "cell_type": "code",
   "execution_count": null,
   "metadata": {},
   "outputs": [],
   "source": [
    "import numpy as np\n",
    "import matplotlib.pyplot as plt\n",
    "from matplotlib import rc\n",
    "import pandas as pd\n",
    " \n",
    "# Data\n",
    "r = [0,1,2]\n",
    "\n",
    "keys = df_WN.columns\n",
    "raw_data = {}\n",
    "for key in keys:\n",
    "   raw_data[key]=[]\n",
    "   raw_data[key].append(df_linear.mean()[key]) \n",
    "   raw_data[key].append(df_NN.mean()[key]) \n",
    "   raw_data[key].append(df_WN.mean()[key]) \n",
    "\n",
    "df = pd.DataFrame(raw_data)"
   ]
  },
  {
   "cell_type": "code",
   "execution_count": null,
   "metadata": {},
   "outputs": [],
   "source": [
    "# From raw value to percentage\n",
    "plt.figure(num=None, figsize=(8, 6), dpi=80, facecolor='w', edgecolor='k')\n",
    "totals = [i+j+k+l+m+n+o+p+q+r+s for i,j,k,l,m,n,o,p,q,r,s in zip(df['S0'], df['S1'], df['S2'], df['S3'], df['S4'],df['S5'],df['S6'], df['S7'], df['S8'], df['S9'], df['S10'] )]\n",
    "S0Bars = [i / j * 100 for i,j in zip(df['S0'], totals)]\n",
    "S1Bars = [i / j * 100 for i,j in zip(df['S1'], totals)]\n",
    "S2Bars = [i / j * 100 for i,j in zip(df['S2'], totals)]\n",
    "S3Bars = [i / j * 100 for i,j in zip(df['S3'], totals)]\n",
    "S4Bars = [i / j * 100 for i,j in zip(df['S4'], totals)]\n",
    "S5Bars = [i / j * 100 for i,j in zip(df['S5'], totals)]\n",
    "S6Bars = [i / j * 100 for i,j in zip(df['S6'], totals)]\n",
    "S7Bars = [i / j * 100 for i,j in zip(df['S7'], totals)]\n",
    "S8Bars = [i / j * 100 for i,j in zip(df['S8'], totals)]\n",
    "S9Bars = [i / j * 100 for i,j in zip(df['S9'], totals)]\n",
    "S10Bars = [i / j * 100 for i,j in zip(df['S10'], totals)]\n",
    " \n",
    "# plot\n",
    "barWidth = 0.85\n",
    "names = ('DNN','Linear','Universe')\n",
    "# Create green Bars\n",
    "plt.bar(r, S0Bars, color='#b5ffb9', edgecolor='white', width=barWidth, label=GICS['S0'])\n",
    "# Create orange Bars\n",
    "plt.bar(r, S1Bars, bottom=S0Bars, color='#f9bc86', edgecolor='white', width=barWidth, label=GICS['S1'])\n",
    "# Create blue Bars\n",
    "plt.bar(r, S2Bars, bottom=[i+j for i,j in zip(S0Bars, S1Bars)], color='#a3acff', edgecolor='white', width=barWidth, label=GICS['S2'])\n",
    "# Create blue Bars\n",
    "plt.bar(r, S3Bars, bottom=[i+j+k for i,j,k in zip(S0Bars, S1Bars, S2Bars)], color='#5b3475', edgecolor='white', width=barWidth, label=GICS['S3'])\n",
    "# Create blue Bars\n",
    "plt.bar(r, S4Bars, bottom=[i+j+k+l for i,j,k,l in zip(S0Bars, S1Bars, S2Bars, S3Bars)], color='#e80027', edgecolor='white', width=barWidth, label=GICS['S4'])\n",
    "# Create blue Bars\n",
    "plt.bar(r, S5Bars, bottom=[i+j+k+l+m for i,j,k,l,m in zip(S0Bars, S1Bars, S2Bars, S3Bars, S4Bars)], color='#471e02', edgecolor='white', width=barWidth, label=GICS['S5'])\n",
    "# Create blue Bars\n",
    "plt.bar(r, S6Bars, bottom=[i+j+k+l+m+n for i,j,k,l,m,n in zip(S0Bars, S1Bars, S2Bars, S3Bars, S4Bars, S5Bars)], color='#f40088', edgecolor='white', width=barWidth, label=GICS['S6'])\n",
    "# Create blue Bars\n",
    "plt.bar(r, S7Bars, bottom=[i+j+k+l+m+n+o for i,j,k,l,m,n,o in zip(S0Bars, S1Bars, S2Bars, S3Bars, S4Bars, S5Bars,S6Bars)], color='#c9f7ca', edgecolor='white', width=barWidth, label=GICS['S7'])\n",
    "# Create blue Bars\n",
    "plt.bar(r, S8Bars, bottom=[i+j+k+l+m+n+o+p for i,j,k,l,m,n,o,p in zip(S0Bars, S1Bars, S2Bars, S3Bars, S4Bars, S5Bars,S6Bars,S7Bars)], color='#ca642d', edgecolor='white', width=barWidth, label=GICS['S8'])\n",
    "# Create blue Bars\n",
    "plt.bar(r, S9Bars, bottom=[i+j+k+l+m+n+o+p+q for i,j,k,l,m,n,o,p,q in zip(S0Bars, S1Bars, S2Bars, S3Bars, S4Bars, S5Bars,S6Bars,S7Bars,S8Bars)], color='#295151', edgecolor='white', width=barWidth, label=GICS['S9'])\n",
    "\n",
    "plt.bar(r, S10Bars, bottom=[i+j+k+l+m+n+o+p+q+r for i,j,k,l,m,n,o,p,q,r in zip(S0Bars, S1Bars, S2Bars, S3Bars, S4Bars, S5Bars,S6Bars,S7Bars,S8Bars,S9Bars)], color='#a3ff00', edgecolor='white', width=barWidth, label=GICS['S10'])\n",
    "\n",
    "    \n",
    "# Custom x axis\n",
    "plt.xticks(r, names)\n",
    "#plt.xlabel(\"group\")\n",
    "plt.legend(loc='upper left', bbox_to_anchor=(1,1), ncol=1)\n",
    "\n",
    "# Show graphic\n",
    "#plt.show()\n",
    "plt.savefig('sectors.png', format='png',dpi=1200)#,bbox_inches = \"tight\")"
   ]
  },
  {
   "cell_type": "markdown",
   "metadata": {},
   "source": [
    "# factor analysis"
   ]
  },
  {
   "cell_type": "code",
   "execution_count": null,
   "metadata": {},
   "outputs": [],
   "source": [
    "\"\"\"\n",
    " factor analysis over most recent 10 year period.\n",
    "\"\"\"    \n",
    "\n",
    "\n",
    "m_range = [50]\n",
    "columns=['F1', 'F2', 'F3', 'F5', 'F6', 'F7','F8', 'F9', 'F12', 'F13', 'F14',\n",
    "       'F16', 'F17','F18']\n",
    "df_WN = pd.DataFrame(columns=columns)\n",
    "df_linear = pd.DataFrame(columns=columns)\n",
    "df_NN = pd.DataFrame(columns=columns)\n",
    "\n",
    "\n",
    "for m in m_range:\n",
    "    idx_linear = []\n",
    "    idx_NN = []\n",
    "    idx_WN = []\n",
    "    for i in range((testing_periods-120),testing_periods):\n",
    "        idx_linear.append(np.argsort(-y_hat_linear[i].flatten())[:m])\n",
    "        \n",
    "        series=pd.Series(X[columns].iloc[idx_linear[-1]].mean())\n",
    "        df_linear=df_linear.append(series, ignore_index=True)\n",
    "        \n",
    "        \n",
    "        idx_NN.append(np.argsort(-y_hat_NN[i].flatten())[:m])\n",
    "        series=pd.Series(X[columns].iloc[idx_NN[-1]].mean())\n",
    "        df_NN=df_NN.append(series, ignore_index=True)\n",
    " \n",
    "        #White Noise IR\n",
    "        idx_WN.append(np.random.choice(np.arange(0,len(ys['test'][i])),m))\n",
    "        series=pd.Series(X[columns].iloc[idx_WN[-1]].mean())\n",
    "        df_WN=df_WN.append(series, ignore_index=True)\n"
   ]
  },
  {
   "cell_type": "code",
   "execution_count": null,
   "metadata": {},
   "outputs": [],
   "source": [
    "# show factor tilts on 2015-10-01 - the date of the outlier"
   ]
  },
  {
   "cell_type": "code",
   "execution_count": null,
   "metadata": {},
   "outputs": [],
   "source": [
    "names={'F1':'B/P', 'F2':'CF/P', 'F3':'E/P', 'F4':'S/EV', 'F5':'EB/EV', 'F6':'FE/P', 'F7':'TAG', 'F8':'MC', 'F9':'S', 'F10':'TA', 'F11':'TrA', 'F12':'EaV/TA', 'F13':'CFV/TA', 'F14':'SV/TA','F15':'RV', 'F16':'CB','F17':'Div', 'F18':'EG'}"
   ]
  },
  {
   "cell_type": "code",
   "execution_count": null,
   "metadata": {},
   "outputs": [],
   "source": [
    "full_names={'F1':'Book to Price (B/P)', 'F2': 'Cash Flow to Price (CF/P)', 'F3':'Earning to Price (E/P)', 'F5': 'EBIDTA to EV (EB/EV)', 'F7': 'Total Asset Growth (TAG)', 'F13':'Cash Flow Volatility to Total Assets (CFV/TA)', 'F14':'Sales Volatility to Total Assets (SV/TA)', 'F16': 'Rolling CAPM Beta (CB)'}"
   ]
  },
  {
   "cell_type": "code",
   "execution_count": null,
   "metadata": {},
   "outputs": [],
   "source": [
    "plt.plot(range(0,14),df_NN.iloc[93], color='red', label='NN')\n",
    "plt.plot(range(0,14),df_linear.iloc[93], color='blue', label='OLS')\n",
    "plt.xticks(range(0,14), [ names[column] for column in columns ], rotation=70)\n",
    "plt.legend()\n",
    "plt.savefig('factor_tilts_2015-10-1.eps', format='eps',dpi=1200,bbox_inches = \"tight\")"
   ]
  },
  {
   "cell_type": "code",
   "execution_count": null,
   "metadata": {
    "scrolled": true
   },
   "outputs": [],
   "source": [
    "rows=2\n",
    "cols = 4\n",
    "figsize=(13.7, 6)\n",
    "# plot a subset of factors\n",
    "factors=['F1', 'F2', 'F3', 'F5',  'F7', 'F13', 'F14',\n",
    "       'F16']\n",
    "#factors=columns #uncomment for all factors\n",
    "fig1, axs = plt.subplots(rows, cols, figsize=figsize, constrained_layout=True)\n",
    "axs = trim_axs(axs, len(factors))\n",
    "for ax, factor in zip(axs, factors):\n",
    "    ax.set_title('%s' % str(full_names[factor]))\n",
    "    #set(ax,'xtickl',get(ax,'xtick'))\n",
    "    wn_label='Random: ' + str(round(np.mean(df_WN[factor]),3)) + ' (' + str(round(np.std(df_WN[factor]),3))  + ')'\n",
    "    OLS_label='OLS: ' + str(round(np.mean(df_linear[factor]),3)) +  ' (' + str(round(np.std(df_linear[factor]),3)) + ')'\n",
    "    NN_label='NN: ' + str(round(np.mean(df_NN[factor]),3)) +  ' (' + str(round(np.std(df_NN[factor]),3)) +  ')'\n",
    "    \n",
    "    ax.plot(range(0,len(df_NN)), df_NN[factor], 'o', ls='--', ms=4, color='red', label=NN_label)\n",
    "    ax.plot(range(0,len(df_linear)), df_linear[factor], 'o', ls='--', ms=4, color='blue', label=OLS_label)\n",
    "    #ax.plot(range(0,len(df_WN)), df_WN[sector], 'o', ls='--', ms=4, color='black', label=wn_label)\n",
    "    \n",
    "    #ax.xlabel('dates')\n",
    "    #ax.set_xticklabels(np.arange(0,120,12), dates[np.arange(n-120,n,12)], rotation=70)\n",
    "    fontdict= {'fontsize': 10,\n",
    "    'fontweight': 1,\n",
    "     'verticalalignment': 'baseline'}\n",
    "    ax.set_ylim([np.min(df_NN[factor])-0.25,np.max(df_linear[factor])+0.65])\n",
    "    ax.set_xticks(np.arange(0,120,12), minor=False)\n",
    "    ax.set_xticklabels(dates[np.arange(n-120,n,12)], fontdict=fontdict) #, rotation=70)\n",
    "    ax.tick_params(axis='x', rotation=70)\n",
    "    ax.axvline(x=93, linestyle='--', color='black')\n",
    "    ax.legend(loc='upper left')#, bbox_to_anchor=(1, 0.5))\n",
    "fig1.tight_layout()\n",
    "plt.savefig('factors_tilts_hi.eps', format='eps',dpi=1200,bbox_inches = \"tight\")"
   ]
  }
 ],
 "metadata": {
  "kernelspec": {
   "display_name": "Python 3",
   "language": "python",
   "name": "python3"
  },
  "language_info": {
   "codemirror_mode": {
    "name": "ipython",
    "version": 3
   },
   "file_extension": ".py",
   "mimetype": "text/x-python",
   "name": "python",
   "nbconvert_exporter": "python",
   "pygments_lexer": "ipython3",
   "version": "3.7.11"
  }
 },
 "nbformat": 4,
 "nbformat_minor": 2
}
